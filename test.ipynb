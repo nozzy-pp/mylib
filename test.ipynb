{
 "cells": [
  {
   "cell_type": "code",
   "execution_count": 4,
   "id": "87c0d332",
   "metadata": {},
   "outputs": [
    {
     "name": "stdout",
     "output_type": "stream",
     "text": [
      "Column names: ['uri', 'da', 'ari', 'range']\n"
     ]
    }
   ],
   "source": [
    "history = [\n",
    "    {   'desc': 'thisis a test',\n",
    "        'uri': [1, 2, 3, 4, 5],\n",
    "        'da': [6, 7, 8, 9, 10],\n",
    "    },\n",
    "    {\n",
    "        'ari' : [11, 12, 13, 14, 15],\n",
    "        'range': [16, 17, 18, 19, 20],\n",
    "    }\n",
    "]\n",
    "colnames = []\n",
    "for hist in history:\n",
    "    for key, value in hist.items():\n",
    "        if not isinstance(value, list):\n",
    "            continue\n",
    "\n",
    "        colnames.append(key)\n",
    "\n",
    "print(\"Column names:\", colnames)"
   ]
  },
  {
   "cell_type": "code",
   "execution_count": null,
   "id": "2a59dacf",
   "metadata": {},
   "outputs": [],
   "source": []
  }
 ],
 "metadata": {
  "kernelspec": {
   "display_name": "hirakubo2025",
   "language": "python",
   "name": "python3"
  },
  "language_info": {
   "codemirror_mode": {
    "name": "ipython",
    "version": 3
   },
   "file_extension": ".py",
   "mimetype": "text/x-python",
   "name": "python",
   "nbconvert_exporter": "python",
   "pygments_lexer": "ipython3",
   "version": "3.11.11"
  }
 },
 "nbformat": 4,
 "nbformat_minor": 5
}
